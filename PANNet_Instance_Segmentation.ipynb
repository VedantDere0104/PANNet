{
  "nbformat": 4,
  "nbformat_minor": 0,
  "metadata": {
    "colab": {
      "name": "PANNet_Instance_Segmentation.ipynb",
      "provenance": [],
      "collapsed_sections": []
    },
    "kernelspec": {
      "name": "python3",
      "display_name": "Python 3"
    },
    "language_info": {
      "name": "python"
    }
  },
  "cells": [
    {
      "cell_type": "code",
      "metadata": {
        "id": "twxWhcxE3SKZ"
      },
      "source": [
        "####"
      ],
      "execution_count": 1,
      "outputs": []
    },
    {
      "cell_type": "code",
      "metadata": {
        "id": "lGfM1nuT3Wjs"
      },
      "source": [
        "import torch\n",
        "from torch import nn\n",
        "import torch.nn.functional as f"
      ],
      "execution_count": 2,
      "outputs": []
    },
    {
      "cell_type": "code",
      "metadata": {
        "id": "OIpXYOqp_99b"
      },
      "source": [
        "\n",
        "import torch\n",
        "from torch import nn\n",
        "import numpy as np\n",
        "import matplotlib.pyplot as plt\n",
        "import pandas as pd\n",
        "import os\n",
        "from torchvision import transforms\n",
        "from torchvision.utils import make_grid\n",
        "import torchvision.transforms.functional as F\n",
        "from tqdm.notebook import tqdm\n",
        "from torchvision.ops import roi_align"
      ],
      "execution_count": 3,
      "outputs": []
    },
    {
      "cell_type": "code",
      "metadata": {
        "id": "-miGtHtv4rWK"
      },
      "source": [
        "device = torch.device('cuda' if torch.cuda.is_available() else 'cpu')"
      ],
      "execution_count": 4,
      "outputs": []
    },
    {
      "cell_type": "code",
      "metadata": {
        "id": "eI7uFhg7AKDb"
      },
      "source": [
        "def iou_width_height(boxes1, boxes2):\n",
        "\n",
        "    intersection = torch.min(boxes1[..., 0], boxes2[..., 0]) * torch.min(\n",
        "        boxes1[..., 1], boxes2[..., 1]\n",
        "    )\n",
        "    union = (\n",
        "        boxes1[..., 0] * boxes1[..., 1] + boxes2[..., 0] * boxes2[..., 1] - intersection\n",
        "    )\n",
        "    return intersection / union"
      ],
      "execution_count": 5,
      "outputs": []
    },
    {
      "cell_type": "code",
      "metadata": {
        "id": "Z89mtnMHAKto"
      },
      "source": [
        "\n",
        "def show_tensor_images(image_tensor, num_images=2, size=(3 , 224 , 224)):\n",
        "    image_shifted = image_tensor\n",
        "    image_unflat = image_shifted.detach().cpu().view(-1, *size)\n",
        "    image_grid = make_grid(image_unflat[:num_images], nrow=5)\n",
        "    plt.imshow(image_grid.permute(1, 2, 0).squeeze())\n",
        "    plt.show()"
      ],
      "execution_count": 6,
      "outputs": []
    },
    {
      "cell_type": "code",
      "metadata": {
        "id": "rZWnLNSiAMrD"
      },
      "source": [
        "def intersection_over_union(boxes_preds, boxes_labels, box_format=\"midpoint\"):\n",
        "\n",
        "    if box_format == \"midpoint\":\n",
        "        box1_x1 = boxes_preds[..., 0:1] - boxes_preds[..., 2:3] / 2\n",
        "        box1_y1 = boxes_preds[..., 1:2] - boxes_preds[..., 3:4] / 2\n",
        "        box1_x2 = boxes_preds[..., 0:1] + boxes_preds[..., 2:3] / 2\n",
        "        box1_y2 = boxes_preds[..., 1:2] + boxes_preds[..., 3:4] / 2\n",
        "        box2_x1 = boxes_labels[..., 0:1] - boxes_labels[..., 2:3] / 2\n",
        "        box2_y1 = boxes_labels[..., 1:2] - boxes_labels[..., 3:4] / 2\n",
        "        box2_x2 = boxes_labels[..., 0:1] + boxes_labels[..., 2:3] / 2\n",
        "        box2_y2 = boxes_labels[..., 1:2] + boxes_labels[..., 3:4] / 2\n",
        "\n",
        "    if box_format == \"corners\":\n",
        "        box1_x1 = boxes_preds[..., 0:1]\n",
        "        box1_y1 = boxes_preds[..., 1:2]\n",
        "        box1_x2 = boxes_preds[..., 2:3]\n",
        "        box1_y2 = boxes_preds[..., 3:4]\n",
        "        box2_x1 = boxes_labels[..., 0:1]\n",
        "        box2_y1 = boxes_labels[..., 1:2]\n",
        "        box2_x2 = boxes_labels[..., 2:3]\n",
        "        box2_y2 = boxes_labels[..., 3:4]\n",
        "\n",
        "    x1 = torch.max(box1_x1, box2_x1)\n",
        "    y1 = torch.max(box1_y1, box2_y1)\n",
        "    x2 = torch.min(box1_x2, box2_x2)\n",
        "    y2 = torch.min(box1_y2, box2_y2)\n",
        "\n",
        "    intersection = (x2 - x1).clamp(0) * (y2 - y1).clamp(0)\n",
        "    box1_area = abs((box1_x2 - box1_x1) * (box1_y2 - box1_y1))\n",
        "    box2_area = abs((box2_x2 - box2_x1) * (box2_y2 - box2_y1))\n",
        "\n",
        "    return intersection / (box1_area + box2_area - intersection + 1e-6)"
      ],
      "execution_count": 7,
      "outputs": []
    },
    {
      "cell_type": "code",
      "metadata": {
        "id": "yyufnrRJ37jF"
      },
      "source": [
        "def Reverse(lst):\n",
        "    return [ele for ele in reversed(lst)]"
      ],
      "execution_count": 8,
      "outputs": []
    },
    {
      "cell_type": "code",
      "metadata": {
        "id": "DGLpv21038Dz"
      },
      "source": [
        "class Conv(nn.Module):\n",
        "    def __init__(self , \n",
        "                 in_channels , \n",
        "                 out_channels ,\n",
        "                 kernel_size = (3 , 3) , \n",
        "                 stride = (1 , 1) , \n",
        "                 padding = 1 , \n",
        "                 use_norm = True , \n",
        "                 use_activation = True , \n",
        "                 use_pool = False):\n",
        "        super(Conv , self).__init__()\n",
        "\n",
        "        self.use_norm = use_norm\n",
        "        self.use_activation = use_activation\n",
        "        self.use_pool = use_pool\n",
        "\n",
        "        self.conv1 = nn.Conv2d(in_channels , \n",
        "                               out_channels , \n",
        "                               kernel_size , \n",
        "                               stride , \n",
        "                               padding)\n",
        "        if self.use_norm:\n",
        "            self.norm = nn.InstanceNorm2d(out_channels)\n",
        "        if self.use_activation:\n",
        "            self.activation = nn.LeakyReLU(0.2)\n",
        "        if self.use_pool:\n",
        "            self.max_pool = nn.MaxPool2d(kernel_size=2 , stride=2)\n",
        "        \n",
        "    def forward(self , x):\n",
        "        x = self.conv1(x)\n",
        "        if self.use_norm:\n",
        "            x = self.norm(x)\n",
        "        if self.use_pool:\n",
        "            x = self.max_pool(x)\n",
        "        if self.use_activation:\n",
        "            x = self.activation(x)\n",
        "        return x"
      ],
      "execution_count": 9,
      "outputs": []
    },
    {
      "cell_type": "code",
      "metadata": {
        "id": "vnSqn3I93-S6"
      },
      "source": [
        "class ConvT(nn.Module):\n",
        "    def __init__(self , \n",
        "                 in_channels , \n",
        "                 out_channels , \n",
        "                 kernel_size = (2 , 2) , \n",
        "                 stride = (2 , 2) , \n",
        "                 padding = 0 , \n",
        "                 use_norm = True , \n",
        "                 use_activation = True):\n",
        "        super(ConvT , self).__init__()\n",
        "\n",
        "        self.use_norm = use_norm\n",
        "        self.use_activation = use_activation\n",
        "\n",
        "        self.convT = nn.ConvTranspose2d(in_channels , \n",
        "                                        out_channels , \n",
        "                                        kernel_size , \n",
        "                                        stride ,\n",
        "                                        padding)\n",
        "        if self.use_norm:\n",
        "            self.norm = nn.InstanceNorm2d(out_channels)\n",
        "        if self.use_activation:\n",
        "            self.activation = nn.LeakyReLU(0.2)\n",
        "\n",
        "    def forward(self , x):\n",
        "        x = self.convT(x)\n",
        "        if self.use_norm:\n",
        "            x = self.norm(x)\n",
        "        if self.use_activation:\n",
        "            x = self.activation(x)\n",
        "        return x"
      ],
      "execution_count": 10,
      "outputs": []
    },
    {
      "cell_type": "code",
      "metadata": {
        "id": "89F4WEd24AZ9"
      },
      "source": [
        "class Resnet_Block(nn.Module):\n",
        "    def __init__(self , \n",
        "                 in_channels , \n",
        "                 out_channels , \n",
        "                 downsample = False):\n",
        "        super(Resnet_Block , self).__init__()\n",
        "\n",
        "        self.downsample = downsample\n",
        "\n",
        "        if self.downsample:\n",
        "            self.conv1 = Conv(in_channels , \n",
        "                        in_channels , \n",
        "                        kernel_size=(2 , 2) , \n",
        "                        stride=(2 , 2) ,\n",
        "                        padding = 0)\n",
        "            \n",
        "            self.conv_skip = Conv(in_channels ,\n",
        "                            out_channels ,\n",
        "                            kernel_size = (2 ,2) , \n",
        "                            stride = (2 , 2) , \n",
        "                            padding = 0)\n",
        "        else:    \n",
        "            self.conv1 = Conv(in_channels , \n",
        "                            in_channels , \n",
        "                            kernel_size=(1 , 1) , \n",
        "                            stride=(1 , 1) ,\n",
        "                            padding = 0)\n",
        "            \n",
        "            self.conv_skip = Conv(in_channels ,\n",
        "                              out_channels ,\n",
        "                              kernel_size = (1 , 1) , \n",
        "                              stride = (1 ,1) , \n",
        "                              padding = 0)\n",
        "            \n",
        "        self.conv2 = Conv(in_channels , \n",
        "                          in_channels)\n",
        "        \n",
        "        self.conv3 = Conv(in_channels , \n",
        "                          out_channels , \n",
        "                          kernel_size = (1 , 1) , \n",
        "                          stride = (1 , 1) , \n",
        "                          padding = 0)\n",
        "        \n",
        "\n",
        "        \n",
        "    def forward(self , x): \n",
        "        x_ = x.clone()\n",
        "        x = self.conv1(x)\n",
        "        x = self.conv2(x)\n",
        "        x = self.conv3(x)\n",
        "        x_ = self.conv_skip(x_)\n",
        "        x += x_\n",
        "        return x"
      ],
      "execution_count": 11,
      "outputs": []
    },
    {
      "cell_type": "code",
      "metadata": {
        "id": "RV_Ne5cG4CuV"
      },
      "source": [
        "class Resnet(nn.Module):\n",
        "    def __init__(self , \n",
        "                 in_channels , \n",
        "                 out_channels):\n",
        "        super(Resnet , self).__init__()\n",
        "\n",
        "        self.conv1 = Conv(in_channels , 64 , kernel_size=(7 , 7) , stride=(2 , 2) , padding=3)\n",
        "\n",
        "        self.conv2 = self._make_repeated_blocks(64 , 256 , 3 , downsample = False)\n",
        "        self.conv3 = self._make_repeated_blocks(256 , 512 , 8)\n",
        "        self.conv4 = self._make_repeated_blocks(512 , 1024 , 36)\n",
        "        self.conv5 = self._make_repeated_blocks(1024 , 2048 , 3)\n",
        "        #self.linear = Linear(2048 , out_channels)\n",
        "\n",
        "    def _make_repeated_blocks(self , in_channels , out_channels , repeats , downsample = True):\n",
        "        layers = []\n",
        "        for i in range(repeats):\n",
        "            if i == 0 and downsample == True:\n",
        "                layers.append(Resnet_Block(in_channels , out_channels , downsample=downsample))\n",
        "            elif i == 0:\n",
        "                layers.append(Resnet_Block(in_channels , out_channels))\n",
        "            else:\n",
        "                layers.append(Resnet_Block(out_channels , out_channels))\n",
        "        return nn.Sequential(*layers)\n",
        "\n",
        "    def forward(self , x):\n",
        "        x = self.conv1(x)\n",
        "        x = torch.max_pool2d(x , kernel_size = (2 , 2) , stride = (2 , 2))\n",
        "        x_0 = self.conv2(x)\n",
        "        x_1 = self.conv3(x_0)\n",
        "        x_2 = self.conv4(x_1)\n",
        "        x_3 = self.conv5(x_2)\n",
        "        #x_out = [x_0 , x_1 , x_2 , x_3]\n",
        "        x_out = [x_3 , x_2 , x_1 , x_0]\n",
        "        return x_out"
      ],
      "execution_count": 12,
      "outputs": []
    },
    {
      "cell_type": "code",
      "metadata": {
        "id": "pcyitwLb4FEE"
      },
      "source": [
        "\n",
        "class PAN_Net(nn.Module):\n",
        "    def __init__(self , \n",
        "                 in_channels = [2048 , 1024 , 512 , 256] ,\n",
        "                 out_channels = [128 , 256 , 512 , 1024]):\n",
        "        super(PAN_Net , self).__init__()\n",
        "\n",
        "\n",
        "        self.top_down = nn.ModuleList()\n",
        "        self.bottom_up = nn.ModuleList()\n",
        "        self.resnet = Resnet(3 , 1000)\n",
        "        \n",
        "        for channel in in_channels:\n",
        "            out_channel = channel // 2\n",
        "            self.top_down.append(ConvT(channel , out_channel))\n",
        "        \n",
        "        for channel in out_channels:\n",
        "            out_channel = channel * 2\n",
        "            self.bottom_up.append(Conv(channel , out_channel , use_pool=True))\n",
        "\n",
        "    def _get_pooled(self , x):\n",
        "        for i , x_ in enumerate(x):\n",
        "            x[i] = f.adaptive_avg_pool2d(x_ , (14 , 14))\n",
        "        x1 , x2 , x3 , x4 = x\n",
        "        x = torch.cat([x1 , x2 , x3 , x4] , dim=1)\n",
        "        return x\n",
        "\n",
        "    def forward(self , x):\n",
        "        x = self.resnet(x)\n",
        "        p = []\n",
        "        N = []\n",
        "        x0 , x1 , x2 , x3 = x\n",
        "        for i , layer in enumerate(self.top_down):\n",
        "            p.append(layer(x[i]))\n",
        "            if i !=0 and i!= len(self.top_down)-1:\n",
        "                p[i] = p[i] + x[i+1]\n",
        "\n",
        "        p_ = Reverse(p)\n",
        "        for i , layer in enumerate(self.bottom_up):\n",
        "            N.append(layer(p_[i]))\n",
        "            if i != 0 and i!= len(self.top_down)-1:\n",
        "                N[i] = N[i] + p_[i+1]\n",
        "        N = self._get_pooled(N)\n",
        "        return N"
      ],
      "execution_count": 13,
      "outputs": []
    },
    {
      "cell_type": "code",
      "metadata": {
        "id": "X7QSgBQJ4Iuj"
      },
      "source": [
        "def test():\n",
        "    pan_net = PAN_Net().to(device)\n",
        "    x = torch.randn(2 , 3 , 224 , 224).to(device)\n",
        "    z = pan_net(x)\n",
        "    print(z.shape)"
      ],
      "execution_count": 14,
      "outputs": []
    },
    {
      "cell_type": "code",
      "metadata": {
        "id": "Nhct-bqR4Lzy"
      },
      "source": [
        "#test()"
      ],
      "execution_count": 15,
      "outputs": []
    },
    {
      "cell_type": "code",
      "metadata": {
        "id": "o2VsuspW4MiK"
      },
      "source": [
        "class Mask_Branch(nn.Module):\n",
        "    def __init__(self , \n",
        "                 in_channels , \n",
        "                 out_channels_model = 1):\n",
        "        super(Mask_Branch , self).__init__()\n",
        "        hidden_dim = 256\n",
        "        self.conv1 = Conv(in_channels , hidden_dim)\n",
        "        self.conv2 = Conv(hidden_dim , hidden_dim)\n",
        "        self.conv3 = Conv(hidden_dim , hidden_dim)\n",
        "        self.conv4 = Conv(hidden_dim , hidden_dim)\n",
        "\n",
        "        self.convT1 = ConvT(hidden_dim , 1)\n",
        "\n",
        "        self.conv4_fc = Conv(hidden_dim , hidden_dim //2)\n",
        "        hidden_dim = hidden_dim //2\n",
        "        self.conv5_fc = Conv(hidden_dim , hidden_dim // 2)\n",
        "        self.flatten = nn.Flatten()\n",
        "\n",
        "        self.linear1 = nn.Linear(12544 , 784 * 5)\n",
        "\n",
        "    def forward(self , x):\n",
        "        x = self.conv1(x)\n",
        "        x = self.conv2(x)\n",
        "        x = self.conv3(x)\n",
        "        x_ = x.clone()\n",
        "        x = self.conv4(x)\n",
        "        x_out = self.convT1(x)\n",
        "        #print(x_out.shape)\n",
        "        x_ = self.conv4_fc(x_)\n",
        "        x_ = self.conv5_fc(x_)\n",
        "        x_ = self.flatten(x_)\n",
        "        x_ = self.linear1(x_.squeeze(-1).squeeze(-1))\n",
        "        #print(x_.shape , x_out.shape)\n",
        "        x_ = x_.view(x_.shape[0] , 1 , 28 , 28 , 5)\n",
        "        x = x_out.unsqueeze(-1) + x_\n",
        "        return x.view(x.shape[0] , 5 , 1 , 28 , 28)"
      ],
      "execution_count": 16,
      "outputs": []
    },
    {
      "cell_type": "code",
      "metadata": {
        "id": "P0BKvQXc_v79"
      },
      "source": [
        "'''x = torch.randn(2 , 3840 , 14 , 14).to(device)\n",
        "mask_pred = Mask_Branch(3840).to(device)\n",
        "z = mask_pred(x)\n",
        "z.shape'''"
      ],
      "execution_count": null,
      "outputs": []
    },
    {
      "cell_type": "code",
      "metadata": {
        "id": "zBnVR_Q1_9DD"
      },
      "source": [
        "class Pred(nn.Module):\n",
        "    def __init__(self , \n",
        "                 in_channels , \n",
        "                 num_classes = 1 , \n",
        "                 B = 5 , \n",
        "                 S = 28):\n",
        "        super(Pred , self).__init__()\n",
        "\n",
        "        self.conv1 = Conv(in_channels , in_channels // 2)\n",
        "        self.conv2 = Conv(in_channels // 2 , in_channels // 4)\n",
        "        self.convT1 = ConvT(in_channels // 4 , in_channels //2)\n",
        "        num_classes_ = num_classes + 4\n",
        "        self.conv3 = Conv(in_channels //2 , num_classes_ * B)\n",
        "\n",
        "        self.B = B\n",
        "        self.S = S\n",
        "        self.num_classes = num_classes_\n",
        "    def forward(self , x):\n",
        "        x = self.conv1(x)\n",
        "        x = self.conv2(x)\n",
        "        x = self.convT1(x)\n",
        "        x = self.conv3(x)\n",
        "        return x.view(x.shape[0] , self.B , self.S , self.S , self.num_classes)"
      ],
      "execution_count": 18,
      "outputs": []
    },
    {
      "cell_type": "code",
      "metadata": {
        "id": "O2f-DEPBCA1E"
      },
      "source": [
        "'''x = torch.randn(2 , 3840  , 14 , 14).to(device)\n",
        "pred = Pred(3840).to(device)\n",
        "z = pred(x)\n",
        "z.shape'''"
      ],
      "execution_count": null,
      "outputs": []
    },
    {
      "cell_type": "code",
      "metadata": {
        "id": "sqN4gBCg-237"
      },
      "source": [
        "class PAN_Net_Model(nn.Module):\n",
        "    def __init__(self , \n",
        "                 in_channels = 3):\n",
        "        super(PAN_Net_Model , self).__init__()\n",
        "\n",
        "        self.pannet = PAN_Net()\n",
        "        self.class_branch = Pred(3840)\n",
        "        self.mask_branch = Mask_Branch(3840)\n",
        "\n",
        "    def forward(self , x):\n",
        "        x = self.pannet(x)\n",
        "        x_classes = self.class_branch(x)\n",
        "        x_mask = self.mask_branch(x)\n",
        "        return x_classes , x_mask"
      ],
      "execution_count": 20,
      "outputs": []
    },
    {
      "cell_type": "code",
      "metadata": {
        "id": "0nPyX2k-_fv_"
      },
      "source": [
        "'''x = torch.randn(2 , 3 , 224 , 224).to(device)\n",
        "pannet = PAN_Net_Model().to(device)\n",
        "z = pannet(x)\n",
        "classes , mask = z\n",
        "print(classes.shape , mask.shape)'''"
      ],
      "execution_count": null,
      "outputs": []
    },
    {
      "cell_type": "code",
      "metadata": {
        "id": "ivbzT-UwCMDd"
      },
      "source": [
        "class Dataset_(torch.utils.data.Dataset):\n",
        "    def __init__(self ,\n",
        "                 img_dir , \n",
        "                 label_dir , \n",
        "                 csv_file , \n",
        "                 anchors , \n",
        "                 transforms = None , \n",
        "                 S = 28 , \n",
        "                 B = 5 , \n",
        "                 C = 20):\n",
        "        super(Dataset_ , self).__init__()\n",
        "\n",
        "        self.img_dir = img_dir\n",
        "        self.label_dir = label_dir\n",
        "        self.df = pd.read_csv(csv_file)\n",
        "        self.anchors = torch.from_numpy(np.array(anchors))\n",
        "        #print(self.anchors)\n",
        "        self.transforms = transforms\n",
        "        self.number_of_anchors_per_cell = 5\n",
        "        self.ignore_iou_thresh = 0.5\n",
        "        self.C = C\n",
        "        self.S = S\n",
        "        self.B = B\n",
        "        self.mask_size = 28\n",
        "\n",
        "    def __len__(self):\n",
        "        return len(self.df)\n",
        "    \n",
        "    def __getitem__(self , idx):\n",
        "        img_size = 224\n",
        "        label_path = os.path.join(self.label_dir , self.df.iloc[idx , 1])\n",
        "        boxes = []\n",
        "        binary_mask = []\n",
        "        label_mask = []\n",
        "\n",
        "        img_path = os.path.join(self.img_dir , self.df.iloc[idx , 0])\n",
        "        image = np.asarray(plt.imread(img_path))\n",
        "        image = torch.from_numpy(image).permute(2 , 0 , 1)\n",
        "        transform_mask = transforms.Compose([\n",
        "                                             transforms.ToPILImage() , \n",
        "                                             transforms.Resize((5 , 5)) , \n",
        "                                             transforms.Grayscale() , \n",
        "                                             transforms.ToTensor()\n",
        "        ])\n",
        "\n",
        "        with open(label_path) as f:\n",
        "            for label in f.readlines():\n",
        "                class_label , x , y , width , height = [\n",
        "                    float(x) if float(x) != int(float(x)) else int(x)\n",
        "                    for x in label.replace(\"\\n\", \"\").split()\n",
        "                ]\n",
        "                boxes.append([ x , y , width , height , class_label])\n",
        "                '''\n",
        "                i_ , j_ = int(img_size * y) , int(img_size * x)\n",
        "                x = img_size * x - j_\n",
        "                y = img_size * y - i_\n",
        "                height = img_size * height \n",
        "                width = img_size * width \n",
        "                img_ = F.crop(image , int(x) , int(y) , int(width) , int(height))\n",
        "                img_ = transform_mask(img_)\n",
        "                binary_mask.append(img_)\n",
        "                label_mask.append(class_label)\n",
        "                '''\n",
        "        #label_mask = torch.tensor(label_mask)\n",
        "        boxes = torch.tensor(boxes) \n",
        "        #binary_mask = torch.stack(binary_mask)\n",
        "\n",
        "        if self.transforms:\n",
        "            image = self.transforms(image)\n",
        "\n",
        "        targets = torch.zeros((self.B , self.S , self.S , 5))\n",
        "        target_mask = torch.zeros((self.B , self.S , self.S , 1))\n",
        "        for box in boxes:\n",
        "            iou_anchors = iou_width_height(box[2:4] , self.anchors)\n",
        "            anchors_indices = iou_anchors.argsort(descending=True, dim=0)        \n",
        "            x , y , width , height , class_label = box\n",
        "            has_anchor = [False for _ in range(self.B)]\n",
        "            for anchor_idx in anchors_indices:\n",
        "                anchor_on_scale = anchor_idx % self.B\n",
        "                S = self.S\n",
        "                i , j = int(S * y) , int(S * x)\n",
        "                anchor_taken = targets[anchor_on_scale , i , j , 0]\n",
        "                if not anchor_taken and not has_anchor[anchor_on_scale]:\n",
        "                    targets[anchor_on_scale , i , j , 0] = 1\n",
        "                    x_cell , y_cell = S * x - j , S * y - i\n",
        "                    width_cell , height_cell = (\n",
        "                        width * S , \n",
        "                        height * S\n",
        "                    )\n",
        "                    box_coordinate = torch.tensor([x_cell , y_cell , width_cell , height_cell])\n",
        "                    targets[anchor_on_scale , i , j , :4] = box_coordinate\n",
        "                    targets[anchor_on_scale , i , j , 4] = int(class_label)\n",
        "                    target_mask_ = F.crop(image , int(x_cell) , int(y_cell) , int(width_cell) , int(height_cell))\n",
        "                    target_mask_ = transform_mask(target_mask_)\n",
        "                    #print(target_mask_.permute(1 , 2 , 0).shape)\n",
        "                    #print(target_mask[anchor_on_scale , i:i+5 , j:j+5 , 0:1].shape)\n",
        "                    target_mask[anchor_on_scale , i:i+5 , j:j+5 , 0:1] = target_mask_.permute(1 , 2 , 0)\n",
        "                    target_mask[anchor_on_scale , i:i+5 , j:j+5 , 1:2] = int(class_label)\n",
        "                    has_anchor[anchor_on_scale] = True\n",
        "                elif not anchor_taken and iou_anchors[anchor_idx] > self.ignore_iou_thresh:\n",
        "                    targets[anchor_on_scale , i , j , 0] = -1\n",
        "        return image , targets , target_mask.view(self.B , 1 , self.S , self.S)"
      ],
      "execution_count": 22,
      "outputs": []
    },
    {
      "cell_type": "code",
      "metadata": {
        "id": "0a8VUf22_2LP"
      },
      "source": [
        "anchors = [[ 0.28, 0.22], [  0.38, 0.48], [ 0.9, 0.78], [ 0.07, 0.15], [ 0.15, 0.11]]\n",
        "transform = transforms.Compose([\n",
        "                                transforms.ToPILImage() , \n",
        "                                transforms.Resize((224 , 224)) , \n",
        "                                transforms.ToTensor()\n",
        "])\n",
        "dataset = Dataset_(\n",
        "    img_dir = '/content/drive/MyDrive/Yolo_Dataset/images/' , \n",
        "    label_dir = '/content/drive/MyDrive/Yolo_Dataset/labels' , \n",
        "    csv_file = '/content/drive/MyDrive/Yolo_Dataset/train.csv' , \n",
        "    anchors = anchors , \n",
        "    transforms = transform\n",
        ")\n",
        "dataloader = torch.utils.data.DataLoader(dataset , batch_size = 1 , shuffle=True)"
      ],
      "execution_count": 23,
      "outputs": []
    },
    {
      "cell_type": "code",
      "metadata": {
        "id": "9gW9_gT3_7D7"
      },
      "source": [
        "for x , y , z in dataloader:\n",
        "    show_tensor_images(x)\n",
        "    print(y.shape)\n",
        "    print(z.shape)\n",
        "    break"
      ],
      "execution_count": null,
      "outputs": []
    },
    {
      "cell_type": "code",
      "metadata": {
        "id": "Hhhze0cqAFVj"
      },
      "source": [
        "adv_criterion = nn.BCEWithLogitsLoss()\n",
        "recon_criterion = nn.L1Loss()\n",
        "ce_criterion = nn.CrossEntropyLoss()\n",
        "lambda_recon = 200\n",
        "betas = (0.5 , 0.999)\n",
        "\n",
        "\n",
        "n_epochs = 200\n",
        "display_steps = 1\n",
        "lr = 0.002"
      ],
      "execution_count": 25,
      "outputs": []
    },
    {
      "cell_type": "code",
      "metadata": {
        "id": "syVaUMISD5OM"
      },
      "source": [
        "pannet = PAN_Net_Model().to(device)\n",
        "opt = torch.optim.Adam(pannet.parameters() , lr=lr , betas = betas)"
      ],
      "execution_count": 26,
      "outputs": []
    },
    {
      "cell_type": "code",
      "metadata": {
        "id": "qiGH8BUfD_Db"
      },
      "source": [
        "def train():\n",
        "    mean_pannet_loss = 0\n",
        "    cur_step = 0\n",
        "    for epoch in range(n_epochs):\n",
        "        for img , label ,  mask_label in dataloader:\n",
        "            img , label , mask_label = img.to(device) , label.to(device)  , mask_label.to(device)\n",
        "\n",
        "            opt.zero_grad()\n",
        "            cls_ , mask  = pannet(img)\n",
        "            #print(cls.shape , bbox.shape)\n",
        "            loss_1 = recon_criterion(cls_ , label)\n",
        "            loss_2 = recon_criterion(mask , mask_label)\n",
        "\n",
        "            loss = (loss_1 + loss_2) /2\n",
        "            loss.backward()\n",
        "            opt.step()\n",
        "\n",
        "            mean_pannet_loss += loss.item() / display_steps\n",
        "            if cur_step % display_steps == 0:\n",
        "                print(f'Epoch {epoch} , Step {cur_step} , Mean Pannet Loss {mean_pannet_loss}')\n",
        "            cur_step +=1\n",
        "        mean_pannet_loss = 0\n"
      ],
      "execution_count": 27,
      "outputs": []
    },
    {
      "cell_type": "code",
      "metadata": {
        "id": "fFHscaiRI2vR"
      },
      "source": [
        "train()"
      ],
      "execution_count": null,
      "outputs": []
    },
    {
      "cell_type": "code",
      "metadata": {
        "id": "GHMaBrk0I3eE"
      },
      "source": [
        ""
      ],
      "execution_count": null,
      "outputs": []
    }
  ]
}